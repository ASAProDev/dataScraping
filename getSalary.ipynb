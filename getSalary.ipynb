{
 "cells": [
  {
   "cell_type": "code",
   "execution_count": 36,
   "id": "5e7e907d",
   "metadata": {},
   "outputs": [],
   "source": [
    "#csv reading\n",
    "import csv\n",
    "\n",
    "salaryFile = open('salary_farms2.csv')\n",
    "\n",
    "type(salaryFile)\n",
    "\n",
    "csvreader=csv.reader(salaryFile)"
   ]
  },
  {
   "cell_type": "code",
   "execution_count": 35,
   "id": "f602a3dc",
   "metadata": {},
   "outputs": [
    {
     "data": {
      "text/plain": [
       "['farm;date;day_start;day_end;lunch_break;hours_done;hourly_rate']"
      ]
     },
     "execution_count": 35,
     "metadata": {},
     "output_type": "execute_result"
    }
   ],
   "source": [
    "header = []\n",
    "header = next(csvreader)\n",
    "header"
   ]
  },
  {
   "cell_type": "code",
   "execution_count": 16,
   "id": "f3a6b7c3",
   "metadata": {},
   "outputs": [
    {
     "data": {
      "text/plain": [
       "[['wayne_thomas;18/02/2023;6:00;16:00;1:00;9:00;26.7'],\n",
       " ['wayne_thomas;20/02/2023;6:00;15:30;1:00;8:30;26.7'],\n",
       " ['wayne_thomas;21/02/2023;6:00;16:30;1:00;9:30;26.7'],\n",
       " ['wayne_thomas;22/02/0203;6:00;15:30;1:00;8:30;26.7'],\n",
       " ['wayne_thomas;23/02/2023;6:00;15:00;1:00;8:00;26.7'],\n",
       " ['wayne_thomas;24/02/2023;6:30;14:00;1:00;6:30;26.7']]"
      ]
     },
     "execution_count": 16,
     "metadata": {},
     "output_type": "execute_result"
    }
   ],
   "source": [
    "rows = []\n",
    "for row in csvreader:\n",
    "    rows.append(row)\n",
    "    \n",
    "rows\n",
    "\n",
    "salaryFile.close()"
   ]
  },
  {
   "cell_type": "markdown",
   "id": "a090455b",
   "metadata": {},
   "source": [
    "import csv\n",
    "rows = []\n",
    "with open(\"salary_farms2.csv\", r) as file:\n",
    "    csvreader = csv.reader(file)\n",
    "    header = next(csvreader)\n",
    "    for row in csvreader:\n",
    "        rows.append(row)\n",
    "print(header)\n",
    "print(rows)"
   ]
  },
  {
   "cell_type": "code",
   "execution_count": 37,
   "id": "585d9679",
   "metadata": {},
   "outputs": [
    {
     "name": "stdout",
     "output_type": "stream",
     "text": [
      "['farm;date;day_start;day_end;lunch_break;hours_done;hourly_rate']\n",
      "[['wayne_thomas;18/02/2023;6:00;16:00;1:00;9:00;26.7'], ['wayne_thomas;20/02/2023;6:00;15:30;1:00;8:30;26.7'], ['wayne_thomas;21/02/2023;6:00;16:30;1:00;9:30;26.7'], ['wayne_thomas;22/02/0203;6:00;15:30;1:00;8:30;26.7'], ['wayne_thomas;23/02/2023;6:00;15:00;1:00;8:00;26.7'], ['wayne_thomas;24/02/2023;6:30;14:00;1:00;6:30;26.7']]\n"
     ]
    }
   ],
   "source": [
    "import csv\n",
    "rows = []\n",
    "with open(\"salary_farms2.csv\", 'r') as file:\n",
    "    csvreader = csv.reader(file)\n",
    "    header = next(csvreader)\n",
    "    for row in csvreader:\n",
    "        rows.append(row)\n",
    "print(header)\n",
    "print(rows)"
   ]
  },
  {
   "cell_type": "code",
   "execution_count": 38,
   "id": "edf27cd6",
   "metadata": {},
   "outputs": [
    {
     "data": {
      "text/html": [
       "<div>\n",
       "<style scoped>\n",
       "    .dataframe tbody tr th:only-of-type {\n",
       "        vertical-align: middle;\n",
       "    }\n",
       "\n",
       "    .dataframe tbody tr th {\n",
       "        vertical-align: top;\n",
       "    }\n",
       "\n",
       "    .dataframe thead th {\n",
       "        text-align: right;\n",
       "    }\n",
       "</style>\n",
       "<table border=\"1\" class=\"dataframe\">\n",
       "  <thead>\n",
       "    <tr style=\"text-align: right;\">\n",
       "      <th></th>\n",
       "      <th>farm;date;day_start;day_end;lunch_break;hours_done;hourly_rate</th>\n",
       "    </tr>\n",
       "  </thead>\n",
       "  <tbody>\n",
       "    <tr>\n",
       "      <th>0</th>\n",
       "      <td>wayne_thomas;18/02/2023;6:00;16:00;1:00;9:00;26.7</td>\n",
       "    </tr>\n",
       "    <tr>\n",
       "      <th>1</th>\n",
       "      <td>wayne_thomas;20/02/2023;6:00;15:30;1:00;8:30;26.7</td>\n",
       "    </tr>\n",
       "    <tr>\n",
       "      <th>2</th>\n",
       "      <td>wayne_thomas;21/02/2023;6:00;16:30;1:00;9:30;26.7</td>\n",
       "    </tr>\n",
       "    <tr>\n",
       "      <th>3</th>\n",
       "      <td>wayne_thomas;22/02/0203;6:00;15:30;1:00;8:30;26.7</td>\n",
       "    </tr>\n",
       "    <tr>\n",
       "      <th>4</th>\n",
       "      <td>wayne_thomas;23/02/2023;6:00;15:00;1:00;8:00;26.7</td>\n",
       "    </tr>\n",
       "    <tr>\n",
       "      <th>5</th>\n",
       "      <td>wayne_thomas;24/02/2023;6:30;14:00;1:00;6:30;26.7</td>\n",
       "    </tr>\n",
       "  </tbody>\n",
       "</table>\n",
       "</div>"
      ],
      "text/plain": [
       "  farm;date;day_start;day_end;lunch_break;hours_done;hourly_rate\n",
       "0  wayne_thomas;18/02/2023;6:00;16:00;1:00;9:00;26.7            \n",
       "1  wayne_thomas;20/02/2023;6:00;15:30;1:00;8:30;26.7            \n",
       "2  wayne_thomas;21/02/2023;6:00;16:30;1:00;9:30;26.7            \n",
       "3  wayne_thomas;22/02/0203;6:00;15:30;1:00;8:30;26.7            \n",
       "4  wayne_thomas;23/02/2023;6:00;15:00;1:00;8:00;26.7            \n",
       "5  wayne_thomas;24/02/2023;6:30;14:00;1:00;6:30;26.7            "
      ]
     },
     "execution_count": 38,
     "metadata": {},
     "output_type": "execute_result"
    }
   ],
   "source": [
    "import pandas as pd\n",
    "data = pd.read_csv(\"salary_farms2.csv\")\n",
    "data"
   ]
  },
  {
   "cell_type": "code",
   "execution_count": 33,
   "id": "1ce7fd5f",
   "metadata": {},
   "outputs": [],
   "source": [
    "import numpy as np"
   ]
  }
 ],
 "metadata": {
  "kernelspec": {
   "display_name": "Python 3 (ipykernel)",
   "language": "python",
   "name": "python3"
  },
  "language_info": {
   "codemirror_mode": {
    "name": "ipython",
    "version": 3
   },
   "file_extension": ".py",
   "mimetype": "text/x-python",
   "name": "python",
   "nbconvert_exporter": "python",
   "pygments_lexer": "ipython3",
   "version": "3.11.1"
  }
 },
 "nbformat": 4,
 "nbformat_minor": 5
}

{
 "cells": [
  {
   "cell_type": "code",
   "execution_count": 36,
   "id": "5e7e907d",
   "metadata": {},
   "outputs": [],
   "source": [
    "#csv reading\n",
    "import csv\n",
    "\n",
    "salaryFile = open('salary_farms2.csv')\n",
    "\n",
    "type(salaryFile)\n",
    "\n",
    "csvreader=csv.reader(salaryFile)"
   ]
  },
  {
   "cell_type": "code",
   "execution_count": 35,
   "id": "f602a3dc",
   "metadata": {},
   "outputs": [
    {
     "data": {
      "text/plain": [
       "['farm;date;day_start;day_end;lunch_break;hours_done;hourly_rate']"
      ]
     },
     "execution_count": 35,
     "metadata": {},
     "output_type": "execute_result"
    }
   ],
   "source": [
    "header = []\n",
    "header = next(csvreader)\n",
    "header"
   ]
  },
  {
   "cell_type": "code",
   "execution_count": 16,
   "id": "f3a6b7c3",
   "metadata": {},
   "outputs": [
    {
     "data": {
      "text/plain": [
       "[['wayne_thomas;18/02/2023;6:00;16:00;1:00;9:00;26.7'],\n",
       " ['wayne_thomas;20/02/2023;6:00;15:30;1:00;8:30;26.7'],\n",
       " ['wayne_thomas;21/02/2023;6:00;16:30;1:00;9:30;26.7'],\n",
       " ['wayne_thomas;22/02/0203;6:00;15:30;1:00;8:30;26.7'],\n",
       " ['wayne_thomas;23/02/2023;6:00;15:00;1:00;8:00;26.7'],\n",
       " ['wayne_thomas;24/02/2023;6:30;14:00;1:00;6:30;26.7']]"
      ]
     },
     "execution_count": 16,
     "metadata": {},
     "output_type": "execute_result"
    }
   ],
   "source": [
    "rows = []\n",
    "for row in csvreader:\n",
    "    rows.append(row)\n",
    "    \n",
    "rows\n",
    "\n",
    "salaryFile.close()"
   ]
  },
  {
   "cell_type": "markdown",
   "id": "a090455b",
   "metadata": {},
   "source": [
    "import csv\n",
    "rows = []\n",
    "with open(\"salary_farms2.csv\", r) as file:\n",
    "    csvreader = csv.reader(file)\n",
    "    header = next(csvreader)\n",
    "    for row in csvreader:\n",
    "        rows.append(row)\n",
    "print(header)\n",
    "print(rows)"
   ]
  },
  {
   "cell_type": "code",
   "execution_count": 37,
   "id": "585d9679",
   "metadata": {},
   "outputs": [
    {
     "name": "stdout",
     "output_type": "stream",
     "text": [
      "['farm;date;day_start;day_end;lunch_break;hours_done;hourly_rate']\n",
      "[['wayne_thomas;18/02/2023;6:00;16:00;1:00;9:00;26.7'], ['wayne_thomas;20/02/2023;6:00;15:30;1:00;8:30;26.7'], ['wayne_thomas;21/02/2023;6:00;16:30;1:00;9:30;26.7'], ['wayne_thomas;22/02/0203;6:00;15:30;1:00;8:30;26.7'], ['wayne_thomas;23/02/2023;6:00;15:00;1:00;8:00;26.7'], ['wayne_thomas;24/02/2023;6:30;14:00;1:00;6:30;26.7']]\n"
     ]
    }
   ],
   "source": [
    "import csv\n",
    "rows = []\n",
    "with open(\"salary_farms2.csv\", 'r') as file:\n",
    "    csvreader = csv.reader(file)\n",
    "    header = next(csvreader)\n",
    "    for row in csvreader:\n",
    "        rows.append(row)\n",
    "print(header)\n",
    "print(rows)"
   ]
  },
  {
   "cell_type": "code",
   "execution_count": 38,
   "id": "edf27cd6",
   "metadata": {},
   "outputs": [
    {
     "data": {
      "text/html": [
       "<div>\n",
       "<style scoped>\n",
       "    .dataframe tbody tr th:only-of-type {\n",
       "        vertical-align: middle;\n",
       "    }\n",
       "\n",
       "    .dataframe tbody tr th {\n",
       "        vertical-align: top;\n",
       "    }\n",
       "\n",
       "    .dataframe thead th {\n",
       "        text-align: right;\n",
       "    }\n",
       "</style>\n",
       "<table border=\"1\" class=\"dataframe\">\n",
       "  <thead>\n",
       "    <tr style=\"text-align: right;\">\n",
       "      <th></th>\n",
       "      <th>farm;date;day_start;day_end;lunch_break;hours_done;hourly_rate</th>\n",
       "    </tr>\n",
       "  </thead>\n",
       "  <tbody>\n",
       "    <tr>\n",
       "      <th>0</th>\n",
       "      <td>wayne_thomas;18/02/2023;6:00;16:00;1:00;9:00;26.7</td>\n",
       "    </tr>\n",
       "    <tr>\n",
       "      <th>1</th>\n",
       "      <td>wayne_thomas;20/02/2023;6:00;15:30;1:00;8:30;26.7</td>\n",
       "    </tr>\n",
       "    <tr>\n",
       "      <th>2</th>\n",
       "      <td>wayne_thomas;21/02/2023;6:00;16:30;1:00;9:30;26.7</td>\n",
       "    </tr>\n",
       "    <tr>\n",
       "      <th>3</th>\n",
       "      <td>wayne_thomas;22/02/0203;6:00;15:30;1:00;8:30;26.7</td>\n",
       "    </tr>\n",
       "    <tr>\n",
       "      <th>4</th>\n",
       "      <td>wayne_thomas;23/02/2023;6:00;15:00;1:00;8:00;26.7</td>\n",
       "    </tr>\n",
       "    <tr>\n",
       "      <th>5</th>\n",
       "      <td>wayne_thomas;24/02/2023;6:30;14:00;1:00;6:30;26.7</td>\n",
       "    </tr>\n",
       "  </tbody>\n",
       "</table>\n",
       "</div>"
      ],
      "text/plain": [
       "  farm;date;day_start;day_end;lunch_break;hours_done;hourly_rate\n",
       "0  wayne_thomas;18/02/2023;6:00;16:00;1:00;9:00;26.7            \n",
       "1  wayne_thomas;20/02/2023;6:00;15:30;1:00;8:30;26.7            \n",
       "2  wayne_thomas;21/02/2023;6:00;16:30;1:00;9:30;26.7            \n",
       "3  wayne_thomas;22/02/0203;6:00;15:30;1:00;8:30;26.7            \n",
       "4  wayne_thomas;23/02/2023;6:00;15:00;1:00;8:00;26.7            \n",
       "5  wayne_thomas;24/02/2023;6:30;14:00;1:00;6:30;26.7            "
      ]
     },
     "execution_count": 38,
     "metadata": {},
     "output_type": "execute_result"
    }
   ],
   "source": [
    "import pandas as pd\n",
    "data = pd.read_csv(\"salary_farms2.csv\")\n",
    "data"
   ]
  },
  {
   "cell_type": "code",
   "execution_count": 45,
   "id": "1ce7fd5f",
   "metadata": {},
   "outputs": [
    {
     "data": {
      "image/png": "[encoded data removed]",
      "text/plain": [
       "<Figure size 750x350 with 1 Axes>"
      ]
     },
     "metadata": {},
     "output_type": "display_data"
    }
   ],
   "source": [
    "import pandas as pd\n",
    "from matplotlib import pyplot as plt\n",
    "\n",
    "plt.rcParams[\"figure.figsize\"] = [7.50, 3.50]\n",
    "plt.rcParams[\"figure.autolayout\"] = True\n",
    "\n",
    "fig, ax = plt.subplots()\n",
    "\n",
    "df = pd.DataFrame({'numbers': [2, 4, 1, 4, 3, 2, 1, 3, 2, 4]})\n",
    "df['numbers'].value_counts().plot(ax=ax, kind='bar', xlabel='numbers', ylabel='frequency')\n",
    "\n",
    "plt.show()\n"
   ]
  },
  {
   "cell_type": "code",
   "execution_count": 56,
   "id": "971c5f7a",
   "metadata": {},
   "outputs": [
    {
     "name": "stdout",
     "output_type": "stream",
     "text": [
      "            farm        date hours_done\n",
      "0   wayne_thomas  18/02/2023       8:45\n",
      "1   wayne_thomas  20/02/2023       8:15\n",
      "2   wayne_thomas  21/02/2023       9:15\n",
      "3   wayne_thomas  22/02/0203       8:15\n",
      "4   wayne_thomas  23/02/2023       7:45\n",
      "..           ...         ...        ...\n",
      "94           NaN         NaN       0:00\n",
      "95           NaN         NaN       0:00\n",
      "96           NaN         NaN       0:00\n",
      "97           NaN         NaN       0:00\n",
      "98           NaN         NaN       0:00\n",
      "\n",
      "[99 rows x 3 columns]\n"
     ]
    }
   ],
   "source": [
    "import pandas as pd\n",
    "import matplotlib.pyplot as plt\n",
    "\n",
    "#headers = ['Farm', 'Date', 'day_start', 'day_end', 'day_end', 'lunch_break', 'smoko', 'hours_done', 'hourly_rate']\n",
    "# importing the module\n",
    "import pandas as pd\n",
    "\n",
    "# read specific columns of csv file using Pandas\n",
    "df = pd.read_csv(\"salary_data.csv\", usecols = ['farm','date','hours_done'])\n",
    "print(df)\n"
   ]
  }
 ],
 "metadata": {
  "kernelspec": {
   "display_name": "Python 3 (ipykernel)",
   "language": "python",
   "name": "python3"
  },
  "language_info": {
   "codemirror_mode": {
    "name": "ipython",
    "version": 3
   },
   "file_extension": ".py",
   "mimetype": "text/x-python",
   "name": "python",
   "nbconvert_exporter": "python",
   "pygments_lexer": "ipython3",
   "version": "3.11.1"
  }
 },
 "nbformat": 4,
 "nbformat_minor": 5
}

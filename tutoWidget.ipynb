{
 "cells": [
  {
   "cell_type": "code",
   "execution_count": 9,
   "id": "85f7b5a0",
   "metadata": {},
   "outputs": [
    {
     "ename": "ModuleNotFoundError",
     "evalue": "No module named 'Tkinter'",
     "output_type": "error",
     "traceback": [
      "\u001b[0;31m---------------------------------------------------------------------------\u001b[0m",
      "\u001b[0;31mModuleNotFoundError\u001b[0m                       Traceback (most recent call last)",
      "Cell \u001b[0;32mIn[9], line 1\u001b[0m\n\u001b[0;32m----> 1\u001b[0m \u001b[38;5;28;01mimport\u001b[39;00m \u001b[38;5;21;01mTkinter\u001b[39;00m \u001b[38;5;28;01mas\u001b[39;00m \u001b[38;5;21;01mtk\u001b[39;00m\n\u001b[1;32m      3\u001b[0m \u001b[38;5;28;01mclass\u001b[39;00m \u001b[38;5;21;01mExample\u001b[39;00m(tk\u001b[38;5;241m.\u001b[39mFrame):\n\u001b[1;32m      4\u001b[0m     \u001b[38;5;28;01mdef\u001b[39;00m \u001b[38;5;21m__init__\u001b[39m(\u001b[38;5;28mself\u001b[39m, parent):\n",
      "\u001b[0;31mModuleNotFoundError\u001b[0m: No module named 'Tkinter'"
     ]
    }
   ],
   "source": [
    "import Tkinter as tk\n",
    "\n",
    "class Example(tk.Frame):\n",
    "    def __init__(self, parent):\n",
    "        tk.Frame.__init__(self, parent)\n",
    "\n",
    "        # create a prompt, an input box, an output label,\n",
    "        # and a button to do the computation\n",
    "        self.prompt = tk.Label(self, text=\"Enter a number:\", anchor=\"w\")\n",
    "        self.entry = tk.Entry(self)\n",
    "        self.submit = tk.Button(self, text=\"Submit\", command = self.calculate)\n",
    "        self.output = tk.Label(self, text=\"\")\n",
    "\n",
    "        # lay the widgets out on the screen. \n",
    "        self.prompt.pack(side=\"top\", fill=\"x\")\n",
    "        self.entry.pack(side=\"top\", fill=\"x\", padx=20)\n",
    "        self.output.pack(side=\"top\", fill=\"x\", expand=True)\n",
    "        self.submit.pack(side=\"right\")\n",
    "\n",
    "    def calculate(self):\n",
    "        # get the value from the input widget, convert\n",
    "        # it to an int, and do a calculation\n",
    "        try:\n",
    "            i = int(self.entry.get())\n",
    "            result = \"%s*2=%s\" % (i, i*2)\n",
    "        except ValueError:\n",
    "            result = \"Please enter digits only\"\n",
    "\n",
    "        # set the output widget to have our result\n",
    "        self.output.configure(text=result)\n",
    "\n",
    "# if this is run as a program (versus being imported),\n",
    "# create a root window and an instance of our example,\n",
    "# then start the event loop\n",
    "\n",
    "if __name__ == \"__main__\":\n",
    "    root = tk.Tk()\n",
    "    Example(root).pack(fill=\"both\", expand=True)\n",
    "    root.mainloop()"
   ]
  },
  {
   "cell_type": "code",
   "execution_count": 2,
   "id": "16c9d75c",
   "metadata": {},
   "outputs": [
    {
     "name": "stdout",
     "output_type": "stream",
     "text": [
      "hello\n"
     ]
    }
   ],
   "source": [
    "print('hello')"
   ]
  },
  {
   "cell_type": "code",
   "execution_count": 4,
   "id": "8f226cae",
   "metadata": {},
   "outputs": [],
   "source": [
    "import time\n",
    "time.sleep(3)"
   ]
  },
  {
   "cell_type": "code",
   "execution_count": 6,
   "id": "e8fa7aa9",
   "metadata": {},
   "outputs": [
    {
     "data": {
      "text/plain": [
       "'Hello, Tim|'"
      ]
     },
     "execution_count": 6,
     "metadata": {},
     "output_type": "execute_result"
    }
   ],
   "source": [
    "def say_hello(recipient):\n",
    "    return 'Hello, {}|'.format(recipient)\n",
    "say_hello('Tim')"
   ]
  },
  {
   "cell_type": "code",
   "execution_count": 11,
   "id": "d2f01969",
   "metadata": {},
   "outputs": [],
   "source": [
    "# some handy functions to use along widgets\n",
    "from IPython.display import display, Markdown, clear_output\n",
    "# widget packages\n",
    "import ipywidgets as widgets\n",
    "# defining some widgets\n",
    "text = widgets.Text(\n",
    "       value='My Text',\n",
    "       description='Title', )\n",
    "calendar = widgets.DatePicker(\n",
    "           description='Select Date')\n",
    "slider = widgets.FloatSlider(\n",
    "         value=1,\n",
    "         min=0,\n",
    "         max=10.0,\n",
    "         step=0.1,)\n",
    "menu = widgets.Dropdown(\n",
    "       options=['red', 'blue', 'green'],\n",
    "       value='red',\n",
    "       description='Color:')\n",
    "checkbox = widgets.Checkbox(\n",
    "           description='Check to invert',)"
   ]
  },
  {
   "cell_type": "code",
   "execution_count": 12,
   "id": "dca6cc4c",
   "metadata": {},
   "outputs": [
    {
     "data": {
      "application/vnd.jupyter.widget-view+json": {
       "model_id": "1fd330e48f864f7fbf6733c74823a3a4",
       "version_major": 2,
       "version_minor": 0
      },
      "text/plain": [
       "Dropdown(description='Color:', options=('red', 'blue', 'green'), value='red')"
      ]
     },
     "execution_count": 12,
     "metadata": {},
     "output_type": "execute_result"
    }
   ],
   "source": [
    "menu"
   ]
  },
  {
   "cell_type": "code",
   "execution_count": 13,
   "id": "bce6d195",
   "metadata": {},
   "outputs": [
    {
     "data": {
      "application/vnd.jupyter.widget-view+json": {
       "model_id": "e779bf797be14b9ba07fd499bd4b6dbe",
       "version_major": 2,
       "version_minor": 0
      },
      "text/plain": [
       "VBox(children=(Text(value='My Text', description='Title'), FloatSlider(value=1.0, max=10.0), Dropdown(descript…"
      ]
     },
     "execution_count": 13,
     "metadata": {},
     "output_type": "execute_result"
    }
   ],
   "source": [
    "box = widgets.VBox([text, slider, menu, calendar, checkbox ])\n",
    "box"
   ]
  },
  {
   "cell_type": "code",
   "execution_count": 14,
   "id": "533ed54b",
   "metadata": {},
   "outputs": [
    {
     "data": {
      "application/vnd.jupyter.widget-view+json": {
       "model_id": "6e2e500a6858431e9a537bacba8bd366",
       "version_major": 2,
       "version_minor": 0
      },
      "text/plain": [
       "HBox(children=(VBox(children=(Text(value='My Text', description='Title'), FloatSlider(value=5.8, max=10.0), Dr…"
      ]
     },
     "execution_count": 14,
     "metadata": {},
     "output_type": "execute_result"
    }
   ],
   "source": [
    "widgets.HBox([box, box])"
   ]
  },
  {
   "cell_type": "code",
   "execution_count": 16,
   "id": "8952acda",
   "metadata": {},
   "outputs": [
    {
     "data": {
      "application/vnd.jupyter.widget-view+json": {
       "model_id": "91f721595e5d4d32b3de3a8541f66bad",
       "version_major": 2,
       "version_minor": 0
      },
      "text/plain": [
       "Tab(children=(VBox(children=(Text(value='My Text', description='Title'), FloatSlider(value=5.8, max=10.0), Dro…"
      ]
     },
     "execution_count": 16,
     "metadata": {},
     "output_type": "execute_result"
    }
   ],
   "source": [
    "# defining a list with the contents of our windows\n",
    "children = [box, box]\n",
    "# initializing a tab\n",
    "tab = widgets.Tab()\n",
    "# setting the tab windows \n",
    "tab.children = children\n",
    "# changing the title of the first and second window\n",
    "tab.set_title(0, 'box')\n",
    "tab.set_title(1, 'copy of box')\n",
    "tab"
   ]
  },
  {
   "cell_type": "code",
   "execution_count": null,
   "id": "7672aa10",
   "metadata": {},
   "outputs": [],
   "source": []
  }
 ],
 "metadata": {
  "kernelspec": {
   "display_name": "Python 3 (ipykernel)",
   "language": "python",
   "name": "python3"
  },
  "language_info": {
   "codemirror_mode": {
    "name": "ipython",
    "version": 3
   },
   "file_extension": ".py",
   "mimetype": "text/x-python",
   "name": "python",
   "nbconvert_exporter": "python",
   "pygments_lexer": "ipython3",
   "version": "3.11.1"
  }
 },
 "nbformat": 4,
 "nbformat_minor": 5
}
